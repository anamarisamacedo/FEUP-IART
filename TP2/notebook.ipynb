{
 "cells": [
  {
   "cell_type": "code",
   "execution_count": 60,
   "metadata": {},
   "outputs": [
    {
     "name": "stdout",
     "output_type": "stream",
     "text": [
      "iso                  0\n",
      "country              0\n",
      "date                 0\n",
      "grocery_pharmacy     0\n",
      "parks                0\n",
      "residential          0\n",
      "retail_recreation    0\n",
      "transit_stations     0\n",
      "workplaces           0\n",
      "total_cases          0\n",
      "fatalities           0\n",
      "dtype: int64\n"
     ]
    }
   ],
   "source": [
    "%matplotlib inline\n",
    "import matplotlib.pyplot as plt\n",
    "import seaborn as sb\n",
    "import pandas as pd\n",
    "import numpy as np\n",
    "import datetime\n",
    "import matplotlib.pyplot as plt\n",
    "\n",
    "covid_dataset = pd.read_csv('google_new.csv', na_values=['NA'])\n",
    "\n",
    "#Análise dos dados \n",
    "\n",
    "#Procura de valores nulos \n",
    "print(covid_dataset.isnull().sum())\n",
    "#Não há valores em falta no dataset"
   ]
  },
  {
   "cell_type": "code",
   "execution_count": 61,
   "metadata": {},
   "outputs": [
    {
     "name": "stdout",
     "output_type": "stream",
     "text": [
      "                grocery_pharmacy      parks  retail_recreation  \\\n",
      "country                                                          \n",
      "Argentina             -19.020047 -42.277535         -37.566070   \n",
      "Australia               6.003023 -14.828302         -13.599047   \n",
      "Brazil                 -7.304302 -28.471791         -29.426140   \n",
      "Canada                 -4.026442   1.619884         -22.450279   \n",
      "France                -18.395791 -28.106698         -43.221163   \n",
      "Germany                -3.408930  10.049000         -27.155419   \n",
      "India                 -21.119977 -18.746047         -29.776116   \n",
      "Indonesia              -4.432512 -16.480302         -14.131442   \n",
      "Italy                 -28.045977 -47.853186         -56.008000   \n",
      "Japan                   3.558907   3.742140          -7.026093   \n",
      "Mexico                 -3.511651 -14.220884         -16.682698   \n",
      "Saudi Arabia           -9.152860 -25.963279         -27.978372   \n",
      "South Africa           -8.987070 -18.496605         -19.657116   \n",
      "South Korea            -3.411558  14.909023         -23.559581   \n",
      "Spain                 -23.713349 -37.079186         -48.143256   \n",
      "Sweden                 -1.102860  19.297698         -12.151721   \n",
      "Turkey                 -4.243488 -10.564070         -25.264395   \n",
      "US                      0.238070   3.763674         -15.161860   \n",
      "United Kingdom         -6.282233  -4.780209         -28.941116   \n",
      "\n",
      "                transit_stations  workplaces  residential  \n",
      "country                                                    \n",
      "Argentina             -32.262326  -24.653349    12.893349  \n",
      "Australia             -18.938395   -5.047651     5.662651  \n",
      "Brazil                -24.000419  -13.919023     8.636814  \n",
      "Canada                -31.134093  -23.271860     9.859605  \n",
      "France                -40.517349  -34.538209    14.964372  \n",
      "Germany               -28.035721  -19.500674     7.802605  \n",
      "India                 -27.073116  -23.122698    10.745628  \n",
      "Indonesia             -20.615674  -10.153186     6.753628  \n",
      "Italy                 -56.707372  -43.004744    19.853512  \n",
      "Japan                 -18.982860   -6.846930     4.785070  \n",
      "Mexico                -17.870093  -10.699372     5.860442  \n",
      "Saudi Arabia          -41.075977  -18.368140    10.817535  \n",
      "South Africa          -22.782907  -16.354907     9.202605  \n",
      "South Korea           -20.121721   -8.329256     8.294326  \n",
      "Spain                 -43.235674  -35.387000    14.626256  \n",
      "Sweden                -20.205465  -13.233558     5.368512  \n",
      "Turkey                -24.462721  -14.271860     7.853186  \n",
      "US                    -21.134488  -18.628488     7.810674  \n",
      "United Kingdom        -29.875953  -24.066744     9.580279  \n"
     ]
    }
   ],
   "source": [
    "#Análise dos dados \n",
    "\n",
    "#distribuição por classes, distribuição de valores em cada atributo, etc\n",
    "\n",
    "#dividir os dados por países\n",
    "countries = covid_dataset.groupby('country')\n",
    "\n",
    "#média dos valores de cada país\n",
    "mean =countries[['grocery_pharmacy','parks', 'retail_recreation',\n",
    "                'transit_stations', 'workplaces', 'residential']].mean() \n",
    "\n",
    "print(mean)"
   ]
  },
  {
   "cell_type": "code",
   "execution_count": 62,
   "metadata": {},
   "outputs": [],
   "source": [
    "#Iso e Country são variáveis redundantes\n",
    "covid_dataset.drop('iso', axis=1, inplace=True)\n",
    "\n"
   ]
  },
  {
   "cell_type": "code",
   "execution_count": 66,
   "metadata": {},
   "outputs": [
    {
     "name": "stdout",
     "output_type": "stream",
     "text": [
      "          country        date  grocery_pharmacy   parks  residential  \\\n",
      "0       Argentina  02/23/2020             8.185  17.563        0.437   \n",
      "1       Argentina  02/24/2020           -15.875  25.605        6.321   \n",
      "2       Argentina  02/25/2020           -17.135   1.325        6.895   \n",
      "3       Argentina  02/26/2020             2.304   5.399       -2.273   \n",
      "4       Argentina  02/27/2020            -0.404  -5.267       -0.493   \n",
      "..            ...         ...               ...     ...          ...   \n",
      "769  South Africa  04/01/2020           -42.446 -37.600       34.916   \n",
      "770  South Africa  04/02/2020           -40.523 -38.226       36.550   \n",
      "771  South Africa  04/03/2020           -42.107 -43.271       38.379   \n",
      "772  South Africa  04/04/2020           -51.515 -57.252       26.499   \n",
      "773  South Africa  04/05/2020           -51.420 -53.273       22.351   \n",
      "\n",
      "     retail_recreation  transit_stations  workplaces  total_cases  fatalities  \\\n",
      "0               13.644             5.334      -2.486            0           0   \n",
      "1               -9.973           -26.785     -53.687            0           0   \n",
      "2              -19.717           -28.485     -50.053            0           0   \n",
      "3                0.845             9.461      12.584            0           0   \n",
      "4               -0.584             7.983      12.407            0           0   \n",
      "..                 ...               ...         ...          ...         ...   \n",
      "769            -69.728           -77.371     -72.935         1380           5   \n",
      "770            -69.577           -77.874     -73.331         1462           5   \n",
      "771            -71.513           -77.944     -72.745         1505           9   \n",
      "772            -76.589           -77.026     -55.095         1585           9   \n",
      "773            -75.913           -78.001     -44.329         1655          11   \n",
      "\n",
      "     Recovered  \n",
      "0          0.0  \n",
      "1          0.0  \n",
      "2          0.0  \n",
      "3          0.0  \n",
      "4          0.0  \n",
      "..         ...  \n",
      "769       50.0  \n",
      "770       50.0  \n",
      "771       95.0  \n",
      "772       95.0  \n",
      "773       95.0  \n",
      "\n",
      "[774 rows x 11 columns]\n"
     ]
    }
   ],
   "source": [
    "#Adicionar os casos recuperados (dados retirados deste repositório https://github.com/imdevskp/covid_19_jhu_data_web_scrap_and_cleaning)\n",
    "\n",
    "recv_df = pd.read_csv('time_series_covid19_recovered_global.csv')\n",
    "recv_df.drop('Province/State', axis=1, inplace=True)\n",
    "dates = recovered.columns[4:]\n",
    "recovered=recv_df.groupby(['Country/Region'], as_index=False)[dates].sum()\n",
    "\n",
    "covid_dataset['date']= pd.to_datetime(covid_dataset.date)\n",
    "\n",
    "covid_dataset['date'] = covid_dataset['date'].dt.strftime('%m/%d/%Y')\n",
    "\n",
    "recv_df_long = recovered.melt(id_vars=['Country/Region'],value_vars=dates, var_name='date', value_name='Recovered')\n",
    "recv_df_long= recv_df_long.rename(columns={'Country/Region': 'country'})\n",
    "\n",
    "frames = [covid_dataset, recv_df_long]\n",
    "\n",
    "full_table = pd.merge(left=covid_dataset, right=recv_df_long, on=['country', 'date']) #problema: South Korea desaparece, porque não tem na lista dos recuperados\n",
    "\n",
    "print(full_table)\n",
    "\n",
    "#full_table.to_csv(\"result.csv\", index = False)\n",
    " \n"
   ]
  },
  {
   "cell_type": "code",
   "execution_count": 67,
   "metadata": {},
   "outputs": [
    {
     "data": {
      "text/plain": [
       "array([[ 0.77061857,  0.94175912,  1.28654914,  1.11630666,  0.64081792,\n",
       "        -0.86430523],\n",
       "       [-0.35894183,  1.18640874,  0.52406489,  0.05250048, -1.33094526,\n",
       "        -0.30599381],\n",
       "       [-0.41809587,  0.44777498,  0.20947596, -0.00380484, -1.19099902,\n",
       "        -0.25152903],\n",
       "       ...,\n",
       "       [-1.59047253, -0.90890175, -1.46277854, -1.64192526, -2.06487355,\n",
       "         2.73587357],\n",
       "       [-2.032156  , -1.3342246 , -1.62665922, -1.61152038, -1.38516769,\n",
       "         1.60862345],\n",
       "       [-2.02769598, -1.21317749, -1.60483429, -1.64381314, -0.97056636,\n",
       "         1.21503477]])"
      ]
     },
     "execution_count": 67,
     "metadata": {},
     "output_type": "execute_result"
    }
   ],
   "source": [
    "#Mais exemplos de dados a adicionar\n",
    "#Active: Active cases = total confirmed - total recovered - total deaths.\n",
    "#Case-Fatality Ratio (%): = confirmed cases per 100,000 persons.\n",
    "#Testing Rate: = total test results per 100,000 persons. \n",
    "#Hospitalization Rate (%): = Total number hospitalized / Number confirmed cases.\n",
    "\n",
    "#https://scikit-learn.org/stable/modules/preprocessing.html\n",
    "from sklearn import preprocessing\n",
    "preprocessing.scale(covid_dataset[['grocery_pharmacy','parks', 'retail_recreation',\n",
    "                'transit_stations', 'workplaces', 'residential'] ])"
   ]
  },
  {
   "cell_type": "code",
   "execution_count": 59,
   "metadata": {},
   "outputs": [
    {
     "name": "stdout",
     "output_type": "stream",
     "text": [
      "          country        date  grocery_pharmacy   parks  residential  \\\n",
      "0       Argentina  02/23/2020             8.185  17.563        0.437   \n",
      "1       Argentina  02/24/2020           -15.875  25.605        6.321   \n",
      "2       Argentina  02/25/2020           -17.135   1.325        6.895   \n",
      "3       Argentina  02/26/2020             2.304   5.399       -2.273   \n",
      "4       Argentina  02/27/2020            -0.404  -5.267       -0.493   \n",
      "..            ...         ...               ...     ...          ...   \n",
      "769  South Africa  04/01/2020           -42.446 -37.600       34.916   \n",
      "770  South Africa  04/02/2020           -40.523 -38.226       36.550   \n",
      "771  South Africa  04/03/2020           -42.107 -43.271       38.379   \n",
      "772  South Africa  04/04/2020           -51.515 -57.252       26.499   \n",
      "773  South Africa  04/05/2020           -51.420 -53.273       22.351   \n",
      "\n",
      "     retail_recreation  transit_stations  workplaces  total_cases  fatalities  \\\n",
      "0               13.644             5.334      -2.486            0           0   \n",
      "1               -9.973           -26.785     -53.687            0           0   \n",
      "2              -19.717           -28.485     -50.053            0           0   \n",
      "3                0.845             9.461      12.584            0           0   \n",
      "4               -0.584             7.983      12.407            0           0   \n",
      "..                 ...               ...         ...          ...         ...   \n",
      "769            -69.728           -77.371     -72.935         1380           5   \n",
      "770            -69.577           -77.874     -73.331         1462           5   \n",
      "771            -71.513           -77.944     -72.745         1505           9   \n",
      "772            -76.589           -77.026     -55.095         1585           9   \n",
      "773            -75.913           -78.001     -44.329         1655          11   \n",
      "\n",
      "     Recovered  \n",
      "0          0.0  \n",
      "1          0.0  \n",
      "2          0.0  \n",
      "3          0.0  \n",
      "4          0.0  \n",
      "..         ...  \n",
      "769       50.0  \n",
      "770       50.0  \n",
      "771       95.0  \n",
      "772       95.0  \n",
      "773       95.0  \n",
      "\n",
      "[774 rows x 11 columns]\n"
     ]
    }
   ],
   "source": []
  },
  {
   "cell_type": "code",
   "execution_count": null,
   "metadata": {},
   "outputs": [],
   "source": []
  },
  {
   "cell_type": "code",
   "execution_count": null,
   "metadata": {},
   "outputs": [],
   "source": []
  }
 ],
 "metadata": {
  "kernelspec": {
   "display_name": "Python 3",
   "language": "python",
   "name": "python3"
  },
  "language_info": {
   "codemirror_mode": {
    "name": "ipython",
    "version": 3
   },
   "file_extension": ".py",
   "mimetype": "text/x-python",
   "name": "python",
   "nbconvert_exporter": "python",
   "pygments_lexer": "ipython3",
   "version": "3.7.4"
  }
 },
 "nbformat": 4,
 "nbformat_minor": 4
}
