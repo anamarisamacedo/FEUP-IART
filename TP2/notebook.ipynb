{
 "cells": [
  {
   "cell_type": "code",
   "execution_count": 90,
   "metadata": {},
   "outputs": [],
   "source": [
    "%matplotlib inline\n",
    "import matplotlib.pyplot as plt\n",
    "import seaborn as sb\n",
    "import pandas as pd\n",
    "import numpy as np\n",
    "import datetime\n",
    "import matplotlib.pyplot as plt\n",
    "\n",
    "covid_dataset = pd.read_csv('google_new.csv', na_values=['NA'])\n"
   ]
  },
  {
   "cell_type": "code",
   "execution_count": 93,
   "metadata": {},
   "outputs": [
    {
     "name": "stdout",
     "output_type": "stream",
     "text": [
      "    iso       country        date  grocery_pharmacy   parks  residential  \\\n",
      "0    AR     Argentina  02/23/2020             8.185  17.563        0.437   \n",
      "1    AR     Argentina  02/24/2020           -15.875  25.605        6.321   \n",
      "2    AR     Argentina  02/25/2020           -17.135   1.325        6.895   \n",
      "3    AR     Argentina  02/26/2020             2.304   5.399       -2.273   \n",
      "4    AR     Argentina  02/27/2020            -0.404  -5.267       -0.493   \n",
      "..   ..           ...         ...               ...     ...          ...   \n",
      "812  ZA  South Africa  04/01/2020           -42.446 -37.600       34.916   \n",
      "813  ZA  South Africa  04/02/2020           -40.523 -38.226       36.550   \n",
      "814  ZA  South Africa  04/03/2020           -42.107 -43.271       38.379   \n",
      "815  ZA  South Africa  04/04/2020           -51.515 -57.252       26.499   \n",
      "816  ZA  South Africa  04/05/2020           -51.420 -53.273       22.351   \n",
      "\n",
      "     retail_recreation  transit_stations  workplaces  total_cases  fatalities  \\\n",
      "0               13.644             5.334      -2.486            0           0   \n",
      "1               -9.973           -26.785     -53.687            0           0   \n",
      "2              -19.717           -28.485     -50.053            0           0   \n",
      "3                0.845             9.461      12.584            0           0   \n",
      "4               -0.584             7.983      12.407            0           0   \n",
      "..                 ...               ...         ...          ...         ...   \n",
      "812            -69.728           -77.371     -72.935         1380           5   \n",
      "813            -69.577           -77.874     -73.331         1462           5   \n",
      "814            -71.513           -77.944     -72.745         1505           9   \n",
      "815            -76.589           -77.026     -55.095         1585           9   \n",
      "816            -75.913           -78.001     -44.329         1655          11   \n",
      "\n",
      "     Recovered  \n",
      "0            0  \n",
      "1            0  \n",
      "2            0  \n",
      "3            0  \n",
      "4            0  \n",
      "..         ...  \n",
      "812         50  \n",
      "813         50  \n",
      "814         95  \n",
      "815         95  \n",
      "816         95  \n",
      "\n",
      "[817 rows x 12 columns]\n"
     ]
    }
   ],
   "source": [
    "#Adicionar os casos recuperados (dados retirados deste repositório https://github.com/imdevskp/covid_19_jhu_data_web_scrap_and_cleaning)\n",
    "\n",
    "recv_df = pd.read_csv('time_series_covid19_recovered_global.csv')\n",
    "\n",
    "#Remover a coluna Province/State\n",
    "recv_df.drop('Province/State', axis=1, inplace=True)\n",
    "\n",
    "#Somar as províncias dos países num só país inteiro\n",
    "dates = recv_df.columns[4:]\n",
    "recovered=recv_df.groupby(['Country/Region'], as_index=False)[dates].sum()\n",
    "\n",
    "#alterar o formato da data dos dados do covid para coincidir com os dados dos recuperados\n",
    "covid_dataset['date']= pd.to_datetime(covid_dataset.date)\n",
    "covid_dataset['date'] = covid_dataset['date'].dt.strftime('%m/%d/%Y')\n",
    "\n",
    "#alterar o formato da dataframe dos recuparados, passando as datas para linhas em vez de colunas, para poder juntar com a nossa dataframe\n",
    "recv_df_long = recovered.melt(id_vars=['Country/Region'],value_vars=dates, var_name='date', value_name='Recovered')\n",
    "recv_df_long= recv_df_long.rename(columns={'Country/Region': 'country'})\n",
    "\n",
    "#Juntar as duas dataframes\n",
    "new_covid_dataset = pd.merge(left=covid_dataset, right=recv_df_long, on=['country', 'date']) \n",
    "\n",
    "print(new_covid_dataset)\n",
    "\n",
    "#full_table.to_csv(\"result.csv\", index = False)"
   ]
  },
  {
   "cell_type": "code",
   "execution_count": 94,
   "metadata": {},
   "outputs": [
    {
     "name": "stdout",
     "output_type": "stream",
     "text": [
      "iso                  0\n",
      "country              0\n",
      "date                 0\n",
      "grocery_pharmacy     0\n",
      "parks                0\n",
      "residential          0\n",
      "retail_recreation    0\n",
      "transit_stations     0\n",
      "workplaces           0\n",
      "total_cases          0\n",
      "fatalities           0\n",
      "Recovered            0\n",
      "dtype: int64\n"
     ]
    }
   ],
   "source": [
    "#Análise dos dados  \n",
    "\n",
    "#Procura de valores nulos \n",
    "print(new_covid_dataset.isnull().sum())\n",
    "#Não há valores em falta no dataset\n",
    "\n",
    "#Iso e Country são variáveis redundantes; remove-se a variável \"iso\"\n",
    "new_covid_dataset.drop('iso', axis=1, inplace=True)\n",
    "\n",
    "#distribuição por classes, distribuição de valores em cada atributo, etc\n",
    "\n",
    "#dividir os dados por países\n",
    "countries = new_covid_dataset.groupby('country')\n",
    "\n",
    "#média dos valores de cada país\n",
    "#mean =countries[['grocery_pharmacy','parks', 'retail_recreation','transit_stations', 'workplaces', 'residential']].mean() \n",
    "#print(mean) \n"
   ]
  },
  {
   "cell_type": "code",
   "execution_count": 97,
   "metadata": {},
   "outputs": [
    {
     "data": {
      "text/plain": [
       "array([[ 0.77061857,  0.94175912,  1.28654914,  1.11630666,  0.64081792,\n",
       "        -0.86430523],\n",
       "       [-0.35894183,  1.18640874,  0.52406489,  0.05250048, -1.33094526,\n",
       "        -0.30599381],\n",
       "       [-0.41809587,  0.44777498,  0.20947596, -0.00380484, -1.19099902,\n",
       "        -0.25152903],\n",
       "       ...,\n",
       "       [-1.59047253, -0.90890175, -1.46277854, -1.64192526, -2.06487355,\n",
       "         2.73587357],\n",
       "       [-2.032156  , -1.3342246 , -1.62665922, -1.61152038, -1.38516769,\n",
       "         1.60862345],\n",
       "       [-2.02769598, -1.21317749, -1.60483429, -1.64381314, -0.97056636,\n",
       "         1.21503477]])"
      ]
     },
     "execution_count": 97,
     "metadata": {},
     "output_type": "execute_result"
    }
   ],
   "source": [
    "#Processamento de dados\n",
    "\n",
    "#https://scikit-learn.org/stable/modules/preprocessing.html\n",
    "from sklearn import preprocessing\n",
    "preprocessing.scale(new_covid_dataset[['grocery_pharmacy','parks', 'retail_recreation',\n",
    "                'transit_stations', 'workplaces', 'residential'] ])"
   ]
  },
  {
   "cell_type": "code",
   "execution_count": null,
   "metadata": {},
   "outputs": [],
   "source": []
  },
  {
   "cell_type": "code",
   "execution_count": null,
   "metadata": {},
   "outputs": [],
   "source": []
  },
  {
   "cell_type": "code",
   "execution_count": null,
   "metadata": {},
   "outputs": [],
   "source": []
  },
  {
   "cell_type": "code",
   "execution_count": null,
   "metadata": {},
   "outputs": [],
   "source": []
  }
 ],
 "metadata": {
  "kernelspec": {
   "display_name": "Python 3",
   "language": "python",
   "name": "python3"
  },
  "language_info": {
   "codemirror_mode": {
    "name": "ipython",
    "version": 3
   },
   "file_extension": ".py",
   "mimetype": "text/x-python",
   "name": "python",
   "nbconvert_exporter": "python",
   "pygments_lexer": "ipython3",
   "version": "3.7.4"
  }
 },
 "nbformat": 4,
 "nbformat_minor": 4
}
